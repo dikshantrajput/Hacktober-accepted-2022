{
 "cells": [
  {
   "cell_type": "markdown",
   "metadata": {
    "id": "JTCaWce5PYWK"
   },
   "source": [
    "***Machine Learning Exp. 2 / 16th Aug 2022***"
   ]
  },
  {
   "cell_type": "markdown",
   "metadata": {
    "id": "beVL9mBBPY2w"
   },
   "source": [
    "Candidate-Elimination Algorithm: For a given set of training data examples stored in a .CSV file, implement and demonstrate the candidate-elimination algorithm to output a description of the set of all hypotheses consistent with the training examples."
   ]
  },
  {
   "cell_type": "code",
   "execution_count": null,
   "metadata": {
    "colab": {
     "base_uri": "https://localhost:8080/"
    },
    "id": "JCe7hZFgPVoS",
    "outputId": "a08497aa-8a69-44ea-cbed-4cd989cfc915"
   },
   "outputs": [
    {
     "name": "stdout",
     "output_type": "stream",
     "text": [
      "Drive already mounted at /content/drive; to attempt to forcibly remount, call drive.mount(\"/content/drive\", force_remount=True).\n"
     ]
    }
   ],
   "source": [
    "from google.colab import drive\n",
    "drive.mount('/content/drive')"
   ]
  },
  {
   "cell_type": "code",
   "execution_count": null,
   "metadata": {
    "colab": {
     "base_uri": "https://localhost:8080/"
    },
    "id": "bAoSvFckPuFJ",
    "outputId": "ff1fc0cc-56bf-41c8-8a73-db448f989d4b"
   },
   "outputs": [
    {
     "name": "stdout",
     "output_type": "stream",
     "text": [
      "     sky airtemp humidity    wind water forecast enjoysport\n",
      "0  sunny    warm   normal  strong  warm     same        yes\n",
      "1  sunny    warm     high  strong  warm     same        yes\n",
      "2  rainy    cold     high  strong  warm   change         no\n",
      "3  sunny    warm     high  strong  cool   change        yes\n"
     ]
    }
   ],
   "source": [
    "import numpy as np\n",
    "import pandas as pd\n",
    "\n",
    "path = \"/content/drive/MyDrive/enjoysport.csv\"\n",
    "\n",
    "data = pd.read_csv(path)\n",
    "print(data)"
   ]
  },
  {
   "cell_type": "code",
   "execution_count": null,
   "metadata": {
    "colab": {
     "base_uri": "https://localhost:8080/"
    },
    "id": "YMc0seGHQMX4",
    "outputId": "59d89772-6e1d-4761-8bf4-5ffb2a6adeaa"
   },
   "outputs": [
    {
     "name": "stdout",
     "output_type": "stream",
     "text": [
      "[['sunny' 'warm' 'normal' 'strong' 'warm' 'same']\n",
      " ['sunny' 'warm' 'high' 'strong' 'warm' 'same']\n",
      " ['rainy' 'cold' 'high' 'strong' 'warm' 'change']\n",
      " ['sunny' 'warm' 'high' 'strong' 'cool' 'change']]\n"
     ]
    }
   ],
   "source": [
    "concepts = np.array(data)[:,:-1]\n",
    "print(concepts)"
   ]
  },
  {
   "cell_type": "code",
   "execution_count": null,
   "metadata": {
    "colab": {
     "base_uri": "https://localhost:8080/"
    },
    "id": "yldj_rtAQcO1",
    "outputId": "f0bd56ef-ad0b-4b1e-a350-a6110f4d9bac"
   },
   "outputs": [
    {
     "name": "stdout",
     "output_type": "stream",
     "text": [
      "['yes' 'yes' 'no' 'yes']\n"
     ]
    }
   ],
   "source": [
    "targets = np.array(data)[:,-1]\n",
    "print(targets)"
   ]
  },
  {
   "cell_type": "code",
   "execution_count": null,
   "metadata": {
    "id": "8kZaDqJZQ1Yh"
   },
   "outputs": [],
   "source": [
    "def CEAlgo(concepts, targets):\n",
    "  specific_h = concepts[0].copy()\n",
    "  general_h = [[\"?\" for i in range(len(specific_h))] for i in range(len(specific_h))]\n",
    "  print(\"Initialization of specific and general hypothesis\")\n",
    "  print(specific_h)\n",
    "  print(general_h)\n",
    "\n",
    "  for i, val in enumerate(concepts):\n",
    "    if targets[i] == 'yes':\n",
    "      for x in range(len(specific_h)):\n",
    "        if val[x] != specific_h[x]:\n",
    "          specific_h[x] = '?'\n",
    "          general_h[x][x] = '?'\n",
    "    \n",
    "    if targets[i] == 'no':\n",
    "      for x in range(len(specific_h)):\n",
    "        if val[x] != specific_h[x]:\n",
    "          general_h[x][x] = specific_h[x]\n",
    "        else:\n",
    "          general_h[x][x] = '?'\n",
    "  \n",
    "  print(\"\\nSteps of Candidate Elimination Algorithm \", i+1)\n",
    "  print(specific_h)\n",
    "  print(general_h)\n",
    "  indices = [i for i, val in enumerate(general_h) if val == ['?', '?', '?', '?', '?', '?']]\n",
    "  print(indices)\n",
    "  for i in indices:\n",
    "    general_h.remove(['?', '?', '?', '?', '?', '?'])\n",
    "  return specific_h, general_h"
   ]
  },
  {
   "cell_type": "code",
   "execution_count": null,
   "metadata": {
    "colab": {
     "base_uri": "https://localhost:8080/"
    },
    "id": "E15kJJQyXPxf",
    "outputId": "c9a904e1-e5e2-4e75-8f65-a5433c6fecfb"
   },
   "outputs": [
    {
     "name": "stdout",
     "output_type": "stream",
     "text": [
      "Initialization of specific and general hypothesis\n",
      "['sunny' 'warm' 'normal' 'strong' 'warm' 'same']\n",
      "[['?', '?', '?', '?', '?', '?'], ['?', '?', '?', '?', '?', '?'], ['?', '?', '?', '?', '?', '?'], ['?', '?', '?', '?', '?', '?'], ['?', '?', '?', '?', '?', '?'], ['?', '?', '?', '?', '?', '?']]\n",
      "\n",
      "Steps of Candidate Elimination Algorithm  4\n",
      "['sunny' 'warm' '?' 'strong' '?' '?']\n",
      "[['sunny', '?', '?', '?', '?', '?'], ['?', 'warm', '?', '?', '?', '?'], ['?', '?', '?', '?', '?', '?'], ['?', '?', '?', '?', '?', '?'], ['?', '?', '?', '?', '?', '?'], ['?', '?', '?', '?', '?', '?']]\n",
      "[2, 3, 4, 5]\n",
      "\n",
      "Specific hypothesis  ['sunny' 'warm' '?' 'strong' '?' '?']\n",
      "General hypothesis [['sunny', '?', '?', '?', '?', '?'], ['?', 'warm', '?', '?', '?', '?']]\n"
     ]
    }
   ],
   "source": [
    "s_final, g_final = CEAlgo(concepts, targets)\n",
    "\n",
    "print(\"\\nSpecific hypothesis \", s_final)\n",
    "print(\"General hypothesis\", g_final)"
   ]
  }
 ],
 "metadata": {
  "colab": {
   "provenance": []
  },
  "kernelspec": {
   "display_name": "Python 3 (ipykernel)",
   "language": "python",
   "name": "python3"
  },
  "language_info": {
   "codemirror_mode": {
    "name": "ipython",
    "version": 3
   },
   "file_extension": ".py",
   "mimetype": "text/x-python",
   "name": "python",
   "nbconvert_exporter": "python",
   "pygments_lexer": "ipython3",
   "version": "3.10.8"
  }
 },
 "nbformat": 4,
 "nbformat_minor": 1
}
