{
  "nbformat": 4,
  "nbformat_minor": 0,
  "metadata": {
    "colab": {
      "provenance": [],
      "collapsed_sections": []
    },
    "kernelspec": {
      "name": "python3",
      "display_name": "Python 3"
    },
    "language_info": {
      "name": "python"
    }
  },
  "cells": [
    {
      "cell_type": "markdown",
      "source": [
        "***Machine Learning Exp. 10 / 13th Oct 2022***"
      ],
      "metadata": {
        "id": "MA7fYY-b-1ZK"
      }
    },
    {
      "cell_type": "markdown",
      "source": [
        "K-Nearest Neighbour(KNN) Algorithm: Write a program to implement K-Nearest Neighbour algorithm to classify the iris data set. Print both correct and wrong predictions. Java/Python ML library classes can be used for this problem."
      ],
      "metadata": {
        "id": "PI-nhoT39MPq"
      }
    },
    {
      "cell_type": "code",
      "execution_count": null,
      "metadata": {
        "id": "9fIGXCPd9KQh"
      },
      "outputs": [],
      "source": [
        "from sklearn.model_selection import train_test_split \n",
        "from sklearn.neighbors import KNeighborsClassifier \n",
        "from sklearn import datasets"
      ]
    },
    {
      "cell_type": "code",
      "source": [
        "iris=datasets.load_iris() \n",
        "print(\"Iris Data set loaded...\")"
      ],
      "metadata": {
        "colab": {
          "base_uri": "https://localhost:8080/"
        },
        "id": "7x9reD6o9bxU",
        "outputId": "8000a3e3-00f7-420b-d5ea-deb97301f75b"
      },
      "execution_count": null,
      "outputs": [
        {
          "output_type": "stream",
          "name": "stdout",
          "text": [
            "Iris Data set loaded...\n"
          ]
        }
      ]
    },
    {
      "cell_type": "code",
      "source": [
        "x_train, x_test, y_train, y_test = train_test_split(iris.data,iris.target,test_size=0.1)"
      ],
      "metadata": {
        "id": "PwFtzIqt9_mU"
      },
      "execution_count": null,
      "outputs": []
    },
    {
      "cell_type": "code",
      "source": [
        "for i in range(len(iris.target_names)):\n",
        "    print(\"Label\", i , \"-\",str(iris.target_names[i]))"
      ],
      "metadata": {
        "colab": {
          "base_uri": "https://localhost:8080/"
        },
        "id": "7Ln5la5a-B2g",
        "outputId": "5ebd3188-9976-4ea5-bef7-98beeabaa32d"
      },
      "execution_count": null,
      "outputs": [
        {
          "output_type": "stream",
          "name": "stdout",
          "text": [
            "Label 0 - setosa\n",
            "Label 1 - versicolor\n",
            "Label 2 - virginica\n"
          ]
        }
      ]
    },
    {
      "cell_type": "code",
      "source": [
        "classifier = KNeighborsClassifier(n_neighbors=2)\n",
        "classifier.fit(x_train, y_train)"
      ],
      "metadata": {
        "colab": {
          "base_uri": "https://localhost:8080/"
        },
        "id": "tEmhiPV6-Exy",
        "outputId": "933e5795-2f44-4e14-a579-23a188fea893"
      },
      "execution_count": null,
      "outputs": [
        {
          "output_type": "execute_result",
          "data": {
            "text/plain": [
              "KNeighborsClassifier(n_neighbors=2)"
            ]
          },
          "metadata": {},
          "execution_count": 5
        }
      ]
    },
    {
      "cell_type": "code",
      "source": [
        "y_pred=classifier.predict(x_test)"
      ],
      "metadata": {
        "id": "hYSJL6yV-Hqz"
      },
      "execution_count": null,
      "outputs": []
    },
    {
      "cell_type": "code",
      "source": [
        "print(\"Results of Classification using K-nn with K=1 \") \n",
        "for r in range(0,len(x_test)):\n",
        "    print(\" Sample:\", str(x_test[r]), \" Actual-label:\", str(y_test[r]),\" Predicted-label:\", str(y_pred[r]))\n",
        "\n",
        "    print(\"Classification Accuracy :\" , classifier.score(x_test,y_test));"
      ],
      "metadata": {
        "colab": {
          "base_uri": "https://localhost:8080/"
        },
        "id": "2DKZnMYd-KAw",
        "outputId": "26ee3052-537f-4eec-f0f0-2f75a2d6e589"
      },
      "execution_count": null,
      "outputs": [
        {
          "output_type": "stream",
          "name": "stdout",
          "text": [
            "Results of Classification using K-nn with K=1 \n",
            " Sample: [5.1 3.5 1.4 0.2]  Actual-label: 0  Predicted-label: 0\n",
            "Classification Accuracy : 0.8\n",
            " Sample: [4.8 3.  1.4 0.1]  Actual-label: 0  Predicted-label: 0\n",
            "Classification Accuracy : 0.8\n",
            " Sample: [6.1 2.9 4.7 1.4]  Actual-label: 1  Predicted-label: 1\n",
            "Classification Accuracy : 0.8\n",
            " Sample: [5.5 4.2 1.4 0.2]  Actual-label: 0  Predicted-label: 0\n",
            "Classification Accuracy : 0.8\n",
            " Sample: [5.4 3.4 1.7 0.2]  Actual-label: 0  Predicted-label: 0\n",
            "Classification Accuracy : 0.8\n",
            " Sample: [6.  3.  4.8 1.8]  Actual-label: 2  Predicted-label: 1\n",
            "Classification Accuracy : 0.8\n",
            " Sample: [4.9 3.1 1.5 0.2]  Actual-label: 0  Predicted-label: 0\n",
            "Classification Accuracy : 0.8\n",
            " Sample: [5.4 3.9 1.3 0.4]  Actual-label: 0  Predicted-label: 0\n",
            "Classification Accuracy : 0.8\n",
            " Sample: [6.7 3.3 5.7 2.1]  Actual-label: 2  Predicted-label: 2\n",
            "Classification Accuracy : 0.8\n",
            " Sample: [6.3 2.8 5.1 1.5]  Actual-label: 2  Predicted-label: 1\n",
            "Classification Accuracy : 0.8\n",
            " Sample: [5.4 3.9 1.7 0.4]  Actual-label: 0  Predicted-label: 0\n",
            "Classification Accuracy : 0.8\n",
            " Sample: [4.4 3.2 1.3 0.2]  Actual-label: 0  Predicted-label: 0\n",
            "Classification Accuracy : 0.8\n",
            " Sample: [6.9 3.1 4.9 1.5]  Actual-label: 1  Predicted-label: 1\n",
            "Classification Accuracy : 0.8\n",
            " Sample: [4.9 2.5 4.5 1.7]  Actual-label: 2  Predicted-label: 1\n",
            "Classification Accuracy : 0.8\n",
            " Sample: [5.  3.2 1.2 0.2]  Actual-label: 0  Predicted-label: 0\n",
            "Classification Accuracy : 0.8\n"
          ]
        }
      ]
    }
  ]
}